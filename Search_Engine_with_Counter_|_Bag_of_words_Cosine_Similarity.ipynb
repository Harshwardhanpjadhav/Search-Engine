{
 "cells": [
  {
   "cell_type": "code",
   "execution_count": null,
   "metadata": {
    "id": "C9alQo3ZliwL"
   },
   "outputs": [],
   "source": [
    "!kaggle datasets download jacopoferretti/bbc-articles-dataset\n",
    "!unzip bbc-articles-dataset.zip"
   ]
  },
  {
   "cell_type": "code",
   "execution_count": null,
   "metadata": {
    "id": "KoblFktKmKag"
   },
   "outputs": [],
   "source": [
    "import pandas as pd"
   ]
  },
  {
   "cell_type": "code",
   "execution_count": null,
   "metadata": {
    "id": "oK2fBTrJmMd7"
   },
   "outputs": [],
   "source": [
    "df = pd.read_csv('/content/bbc_text_cls.csv')"
   ]
  },
  {
   "cell_type": "code",
   "execution_count": null,
   "metadata": {
    "colab": {
     "base_uri": "https://localhost:8080/",
     "height": 204
    },
    "id": "DSNtaUKWmODS",
    "outputId": "1b56029f-9f21-4339-c1fc-fea24ee96541"
   },
   "outputs": [
    {
     "data": {
      "application/vnd.google.colaboratory.intrinsic+json": {
       "summary": "{\n  \"name\": \"df\",\n  \"rows\": 2225,\n  \"fields\": [\n    {\n      \"column\": \"text\",\n      \"properties\": {\n        \"dtype\": \"string\",\n        \"num_unique_values\": 2127,\n        \"samples\": [\n          \"EU 'too slow' on economic reforms\\n\\nMost EU countries have failed to put in place policies aimed at making Europe the world's most competitive economy by the end of the decade, a report says.\\n\\nThe study, undertaken by the European Commission, sought to assess how far the EU has moved towards meeting its economic targets. In 2000, EU leaders at a summit in Lisbon pledged the European economy would outstrip that of the US by 2010. Their economic targets became known as the Lisbon Agenda. But the Commission report says that, in most EU countries, the pace of economic reform has been too slow, and fulfilling the Lisbon ambitions will be difficult - if not impossible.\\n\\nOnly the UK, Finland, Belgium, Denmark, Ireland and the Netherlands have actually followed up policy recommendations. Among the biggest laggards, according to the report, are Greece and Italy. The Lisbon Agenda set out to increase the number of people employed in Europe by encouraging more older people and women to stay in the workforce. It also set out to raise the amount the private sector spends on research and development, while bringing about greater discipline over public spending and debt levels. Combined with high environmental standards and efforts to level the playing field for businesses throughout the EU, the plan was for Europe to become the world's most dynamic economy by 2010. Next week, the Commission will present revised proposals to meet the Lisbon goals. Many people expect the 2010 target to be quietly dropped.\",\n          \"BBC web search aids odd queries\\n\\nThe BBC's online search engine was used a record amount in 2004, helping with enquires both simple and strange.\\n\\nMore than 277 million enquiries were made, asking for informaton of a wide range of subjects. The most requested search terms of 2004 included games, EastEnders, CBBC, John Peel, Harry Potter and Olympics. But there were many strange enquiries, including: what is a dog?, how do you say basketball? and what is the biggest collection of naval fluff? The search engine works by matching key words typed in to different web pages but many people still type in natural language questions. Here are some of the strangest queries of 2004 - spelling and grammar errors left untouched - and their possible solutions:\\n\\n\\n - How to fold a serviette like an elf's boot? \\n \\n\\n\\n - How do I structure a French letter? \\n \\n\\n\\n - What is better one long vacation each year or several short vacations throughout the year? \\n \\n\\n\\n - What is so special about the Swiss? \\n \\n\\n\\n - What are the contemporary issue in nurses? \\n \\n\\n\\n - What is the number 4 in this number 40052308090? \\n \\n\\n\\n - What is up? \\n \\n\\n\\n - What is the name of James Martin's dog? \\n \\n\\nSearch engines are key to the way people use the internet. Companies such as Google have become of paramount importance as they dictate how people travel through websites while online.\",\n          \"Serena becomes world number two\\n\\nSerena Williams has moved up five places to second in the world rankings after her Australian Open win.\\n\\nWilliams won her first Grand Slam title since 2003 with victory over Lindsay Davenport, the world number one. Men's champion Marat Safin remains fourth in the ATP rankings while beaten finalist Lleyton Hewitt replaces Andy Roddick as world number two. Roger Federer retains top spot, but Safin has overtaken Hewitt to become the new leader of the Champions Race. Alicia Molik, who lost a three-set thriller against Davenport in the quarter-finals, is in the women's top 10 for the first time in her career. Her rise means Australia have a player in the top 10 of the men's and women's rankings for the first time in 21 years. And Britain's Elena Baltacha, who qualified and then reached the third round, has risen to 120 in the world - a leap of 65 places and her highest ranking yet.\"\n        ],\n        \"semantic_type\": \"\",\n        \"description\": \"\"\n      }\n    },\n    {\n      \"column\": \"labels\",\n      \"properties\": {\n        \"dtype\": \"category\",\n        \"num_unique_values\": 5,\n        \"samples\": [\n          \"entertainment\",\n          \"tech\",\n          \"politics\"\n        ],\n        \"semantic_type\": \"\",\n        \"description\": \"\"\n      }\n    }\n  ]\n}",
       "type": "dataframe",
       "variable_name": "df"
      },
      "text/html": [
       "\n",
       "  <div id=\"df-b201c9d1-1400-42e2-8526-55ec91d03c80\" class=\"colab-df-container\">\n",
       "    <div>\n",
       "<style scoped>\n",
       "    .dataframe tbody tr th:only-of-type {\n",
       "        vertical-align: middle;\n",
       "    }\n",
       "\n",
       "    .dataframe tbody tr th {\n",
       "        vertical-align: top;\n",
       "    }\n",
       "\n",
       "    .dataframe thead th {\n",
       "        text-align: right;\n",
       "    }\n",
       "</style>\n",
       "<table border=\"1\" class=\"dataframe\">\n",
       "  <thead>\n",
       "    <tr style=\"text-align: right;\">\n",
       "      <th></th>\n",
       "      <th>text</th>\n",
       "      <th>labels</th>\n",
       "    </tr>\n",
       "  </thead>\n",
       "  <tbody>\n",
       "    <tr>\n",
       "      <th>0</th>\n",
       "      <td>Ad sales boost Time Warner profit\\n\\nQuarterly...</td>\n",
       "      <td>business</td>\n",
       "    </tr>\n",
       "    <tr>\n",
       "      <th>1</th>\n",
       "      <td>Dollar gains on Greenspan speech\\n\\nThe dollar...</td>\n",
       "      <td>business</td>\n",
       "    </tr>\n",
       "    <tr>\n",
       "      <th>2</th>\n",
       "      <td>Yukos unit buyer faces loan claim\\n\\nThe owner...</td>\n",
       "      <td>business</td>\n",
       "    </tr>\n",
       "    <tr>\n",
       "      <th>3</th>\n",
       "      <td>High fuel prices hit BA's profits\\n\\nBritish A...</td>\n",
       "      <td>business</td>\n",
       "    </tr>\n",
       "    <tr>\n",
       "      <th>4</th>\n",
       "      <td>Pernod takeover talk lifts Domecq\\n\\nShares in...</td>\n",
       "      <td>business</td>\n",
       "    </tr>\n",
       "  </tbody>\n",
       "</table>\n",
       "</div>\n",
       "    <div class=\"colab-df-buttons\">\n",
       "\n",
       "  <div class=\"colab-df-container\">\n",
       "    <button class=\"colab-df-convert\" onclick=\"convertToInteractive('df-b201c9d1-1400-42e2-8526-55ec91d03c80')\"\n",
       "            title=\"Convert this dataframe to an interactive table.\"\n",
       "            style=\"display:none;\">\n",
       "\n",
       "  <svg xmlns=\"http://www.w3.org/2000/svg\" height=\"24px\" viewBox=\"0 -960 960 960\">\n",
       "    <path d=\"M120-120v-720h720v720H120Zm60-500h600v-160H180v160Zm220 220h160v-160H400v160Zm0 220h160v-160H400v160ZM180-400h160v-160H180v160Zm440 0h160v-160H620v160ZM180-180h160v-160H180v160Zm440 0h160v-160H620v160Z\"/>\n",
       "  </svg>\n",
       "    </button>\n",
       "\n",
       "  <style>\n",
       "    .colab-df-container {\n",
       "      display:flex;\n",
       "      gap: 12px;\n",
       "    }\n",
       "\n",
       "    .colab-df-convert {\n",
       "      background-color: #E8F0FE;\n",
       "      border: none;\n",
       "      border-radius: 50%;\n",
       "      cursor: pointer;\n",
       "      display: none;\n",
       "      fill: #1967D2;\n",
       "      height: 32px;\n",
       "      padding: 0 0 0 0;\n",
       "      width: 32px;\n",
       "    }\n",
       "\n",
       "    .colab-df-convert:hover {\n",
       "      background-color: #E2EBFA;\n",
       "      box-shadow: 0px 1px 2px rgba(60, 64, 67, 0.3), 0px 1px 3px 1px rgba(60, 64, 67, 0.15);\n",
       "      fill: #174EA6;\n",
       "    }\n",
       "\n",
       "    .colab-df-buttons div {\n",
       "      margin-bottom: 4px;\n",
       "    }\n",
       "\n",
       "    [theme=dark] .colab-df-convert {\n",
       "      background-color: #3B4455;\n",
       "      fill: #D2E3FC;\n",
       "    }\n",
       "\n",
       "    [theme=dark] .colab-df-convert:hover {\n",
       "      background-color: #434B5C;\n",
       "      box-shadow: 0px 1px 3px 1px rgba(0, 0, 0, 0.15);\n",
       "      filter: drop-shadow(0px 1px 2px rgba(0, 0, 0, 0.3));\n",
       "      fill: #FFFFFF;\n",
       "    }\n",
       "  </style>\n",
       "\n",
       "    <script>\n",
       "      const buttonEl =\n",
       "        document.querySelector('#df-b201c9d1-1400-42e2-8526-55ec91d03c80 button.colab-df-convert');\n",
       "      buttonEl.style.display =\n",
       "        google.colab.kernel.accessAllowed ? 'block' : 'none';\n",
       "\n",
       "      async function convertToInteractive(key) {\n",
       "        const element = document.querySelector('#df-b201c9d1-1400-42e2-8526-55ec91d03c80');\n",
       "        const dataTable =\n",
       "          await google.colab.kernel.invokeFunction('convertToInteractive',\n",
       "                                                    [key], {});\n",
       "        if (!dataTable) return;\n",
       "\n",
       "        const docLinkHtml = 'Like what you see? Visit the ' +\n",
       "          '<a target=\"_blank\" href=https://colab.research.google.com/notebooks/data_table.ipynb>data table notebook</a>'\n",
       "          + ' to learn more about interactive tables.';\n",
       "        element.innerHTML = '';\n",
       "        dataTable['output_type'] = 'display_data';\n",
       "        await google.colab.output.renderOutput(dataTable, element);\n",
       "        const docLink = document.createElement('div');\n",
       "        docLink.innerHTML = docLinkHtml;\n",
       "        element.appendChild(docLink);\n",
       "      }\n",
       "    </script>\n",
       "  </div>\n",
       "\n",
       "\n",
       "<div id=\"df-4638d901-dd51-4866-820e-d01c2669f7e8\">\n",
       "  <button class=\"colab-df-quickchart\" onclick=\"quickchart('df-4638d901-dd51-4866-820e-d01c2669f7e8')\"\n",
       "            title=\"Suggest charts\"\n",
       "            style=\"display:none;\">\n",
       "\n",
       "<svg xmlns=\"http://www.w3.org/2000/svg\" height=\"24px\"viewBox=\"0 0 24 24\"\n",
       "     width=\"24px\">\n",
       "    <g>\n",
       "        <path d=\"M19 3H5c-1.1 0-2 .9-2 2v14c0 1.1.9 2 2 2h14c1.1 0 2-.9 2-2V5c0-1.1-.9-2-2-2zM9 17H7v-7h2v7zm4 0h-2V7h2v10zm4 0h-2v-4h2v4z\"/>\n",
       "    </g>\n",
       "</svg>\n",
       "  </button>\n",
       "\n",
       "<style>\n",
       "  .colab-df-quickchart {\n",
       "      --bg-color: #E8F0FE;\n",
       "      --fill-color: #1967D2;\n",
       "      --hover-bg-color: #E2EBFA;\n",
       "      --hover-fill-color: #174EA6;\n",
       "      --disabled-fill-color: #AAA;\n",
       "      --disabled-bg-color: #DDD;\n",
       "  }\n",
       "\n",
       "  [theme=dark] .colab-df-quickchart {\n",
       "      --bg-color: #3B4455;\n",
       "      --fill-color: #D2E3FC;\n",
       "      --hover-bg-color: #434B5C;\n",
       "      --hover-fill-color: #FFFFFF;\n",
       "      --disabled-bg-color: #3B4455;\n",
       "      --disabled-fill-color: #666;\n",
       "  }\n",
       "\n",
       "  .colab-df-quickchart {\n",
       "    background-color: var(--bg-color);\n",
       "    border: none;\n",
       "    border-radius: 50%;\n",
       "    cursor: pointer;\n",
       "    display: none;\n",
       "    fill: var(--fill-color);\n",
       "    height: 32px;\n",
       "    padding: 0;\n",
       "    width: 32px;\n",
       "  }\n",
       "\n",
       "  .colab-df-quickchart:hover {\n",
       "    background-color: var(--hover-bg-color);\n",
       "    box-shadow: 0 1px 2px rgba(60, 64, 67, 0.3), 0 1px 3px 1px rgba(60, 64, 67, 0.15);\n",
       "    fill: var(--button-hover-fill-color);\n",
       "  }\n",
       "\n",
       "  .colab-df-quickchart-complete:disabled,\n",
       "  .colab-df-quickchart-complete:disabled:hover {\n",
       "    background-color: var(--disabled-bg-color);\n",
       "    fill: var(--disabled-fill-color);\n",
       "    box-shadow: none;\n",
       "  }\n",
       "\n",
       "  .colab-df-spinner {\n",
       "    border: 2px solid var(--fill-color);\n",
       "    border-color: transparent;\n",
       "    border-bottom-color: var(--fill-color);\n",
       "    animation:\n",
       "      spin 1s steps(1) infinite;\n",
       "  }\n",
       "\n",
       "  @keyframes spin {\n",
       "    0% {\n",
       "      border-color: transparent;\n",
       "      border-bottom-color: var(--fill-color);\n",
       "      border-left-color: var(--fill-color);\n",
       "    }\n",
       "    20% {\n",
       "      border-color: transparent;\n",
       "      border-left-color: var(--fill-color);\n",
       "      border-top-color: var(--fill-color);\n",
       "    }\n",
       "    30% {\n",
       "      border-color: transparent;\n",
       "      border-left-color: var(--fill-color);\n",
       "      border-top-color: var(--fill-color);\n",
       "      border-right-color: var(--fill-color);\n",
       "    }\n",
       "    40% {\n",
       "      border-color: transparent;\n",
       "      border-right-color: var(--fill-color);\n",
       "      border-top-color: var(--fill-color);\n",
       "    }\n",
       "    60% {\n",
       "      border-color: transparent;\n",
       "      border-right-color: var(--fill-color);\n",
       "    }\n",
       "    80% {\n",
       "      border-color: transparent;\n",
       "      border-right-color: var(--fill-color);\n",
       "      border-bottom-color: var(--fill-color);\n",
       "    }\n",
       "    90% {\n",
       "      border-color: transparent;\n",
       "      border-bottom-color: var(--fill-color);\n",
       "    }\n",
       "  }\n",
       "</style>\n",
       "\n",
       "  <script>\n",
       "    async function quickchart(key) {\n",
       "      const quickchartButtonEl =\n",
       "        document.querySelector('#' + key + ' button');\n",
       "      quickchartButtonEl.disabled = true;  // To prevent multiple clicks.\n",
       "      quickchartButtonEl.classList.add('colab-df-spinner');\n",
       "      try {\n",
       "        const charts = await google.colab.kernel.invokeFunction(\n",
       "            'suggestCharts', [key], {});\n",
       "      } catch (error) {\n",
       "        console.error('Error during call to suggestCharts:', error);\n",
       "      }\n",
       "      quickchartButtonEl.classList.remove('colab-df-spinner');\n",
       "      quickchartButtonEl.classList.add('colab-df-quickchart-complete');\n",
       "    }\n",
       "    (() => {\n",
       "      let quickchartButtonEl =\n",
       "        document.querySelector('#df-4638d901-dd51-4866-820e-d01c2669f7e8 button');\n",
       "      quickchartButtonEl.style.display =\n",
       "        google.colab.kernel.accessAllowed ? 'block' : 'none';\n",
       "    })();\n",
       "  </script>\n",
       "</div>\n",
       "\n",
       "    </div>\n",
       "  </div>\n"
      ],
      "text/plain": [
       "                                                text    labels\n",
       "0  Ad sales boost Time Warner profit\\n\\nQuarterly...  business\n",
       "1  Dollar gains on Greenspan speech\\n\\nThe dollar...  business\n",
       "2  Yukos unit buyer faces loan claim\\n\\nThe owner...  business\n",
       "3  High fuel prices hit BA's profits\\n\\nBritish A...  business\n",
       "4  Pernod takeover talk lifts Domecq\\n\\nShares in...  business"
      ]
     },
     "execution_count": 4,
     "metadata": {},
     "output_type": "execute_result"
    }
   ],
   "source": [
    "df.head()"
   ]
  },
  {
   "cell_type": "code",
   "execution_count": null,
   "metadata": {
    "id": "xsmt4bW5mTvi"
   },
   "outputs": [],
   "source": [
    "import re\n",
    "import nltk\n",
    "from nltk.corpus import stopwords\n",
    "from nltk.tokenize import word_tokenize\n",
    "from nltk.stem import WordNetLemmatizer\n",
    "from bs4 import BeautifulSoup\n",
    "nltk.download('punkt')\n",
    "nltk.download('stopwords')\n",
    "nltk.download('wordnet')"
   ]
  },
  {
   "cell_type": "code",
   "execution_count": null,
   "metadata": {
    "id": "NFYGoALXmX72"
   },
   "outputs": [],
   "source": [
    "def preprocess_text(text):\n",
    "    # 1. Lowercasing\n",
    "    text = text.lower()\n",
    "\n",
    "    # 2. Remove HTML Tags\n",
    "    text = BeautifulSoup(text, 'html.parser').get_text()\n",
    "\n",
    "    # 3. Remove URLs\n",
    "    text = re.sub(r'https?://\\S+|www\\.\\S+', '', text)\n",
    "\n",
    "    # 4. Remove emojis\n",
    "    emoji_pattern = re.compile(\"[\"\n",
    "                               \"\\U0001F600-\\U0001F64F\"  # Emoticons\n",
    "                               \"\\U0001F300-\\U0001F5FF\"  # Miscellaneous Symbols and Pictographs\n",
    "                               \"\\U0001F680-\\U0001F6FF\"  # Transport and Map Symbols\n",
    "                               \"\\U0001F700-\\U0001F77F\"  # Alchemical Symbols\n",
    "                               \"\\U0001F780-\\U0001F7FF\"  # Geometric Shapes Extended\n",
    "                               \"\\U0001F800-\\U0001F8FF\"  # Supplemental Arrows-C\n",
    "                               \"\\U0001F900-\\U0001F9FF\"  # Supplemental Symbols and Pictographs\n",
    "                               \"\\U0001FA00-\\U0001FA6F\"  # Chess Symbols\n",
    "                               \"\\U0001FA70-\\U0001FAFF\"  # Symbols and Pictographs Extended-A\n",
    "                               \"\\U00002702-\\U000027B0\"  # Dingbats\n",
    "                               \"\\U000024C2-\\U0001F251\"\n",
    "                               \"]+\", flags=re.UNICODE)\n",
    "    text = emoji_pattern.sub('', text)\n",
    "\n",
    "    # 5. Remove punctuation and numbers\n",
    "    text = re.sub(r'[^a-z\\s]', '', text)\n",
    "\n",
    "    # 6. Tokenization\n",
    "    tokens = word_tokenize(text)\n",
    "\n",
    "    # 7. Remove stopwords and single character tokens\n",
    "    stop_words = set(stopwords.words('english'))\n",
    "    tokens = [token for token in tokens if token not in stop_words and len(token) > 1]\n",
    "\n",
    "    # 8. Lemmatization\n",
    "    lemmatizer = WordNetLemmatizer()\n",
    "    tokens = [lemmatizer.lemmatize(token) for token in tokens]\n",
    "\n",
    "    # Joining tokens back into a sentence\n",
    "    preprocessed_text = ' '.join(tokens)\n",
    "\n",
    "    return preprocessed_text"
   ]
  },
  {
   "cell_type": "code",
   "execution_count": null,
   "metadata": {
    "id": "5jLs28s8mZPA"
   },
   "outputs": [],
   "source": [
    "df['text'] = df['text'].apply(preprocess_text)"
   ]
  },
  {
   "cell_type": "markdown",
   "metadata": {
    "id": "XvE4nvlqq3r1"
   },
   "source": [
    "# Using Counter"
   ]
  },
  {
   "cell_type": "code",
   "execution_count": null,
   "metadata": {
    "id": "z3mfSh6yoDPt"
   },
   "outputs": [],
   "source": [
    "from collections import Counter\n",
    "texts_lowercase_tokenized = df['text'].apply(word_tokenize)\n",
    "\n",
    "token_counters = texts_lowercase_tokenized.apply(Counter).values.tolist()"
   ]
  },
  {
   "cell_type": "code",
   "execution_count": null,
   "metadata": {
    "colab": {
     "base_uri": "https://localhost:8080/"
    },
    "id": "eEXq6G3Fpsm8",
    "outputId": "ea944f6f-0514-41ba-9162-7f9261cfa3f5"
   },
   "outputs": [
    {
     "name": "stdout",
     "output_type": "stream",
     "text": [
      "{'profit': 10}\n"
     ]
    }
   ],
   "source": [
    "print({token: n_occ for token, n_occ in token_counters[0].items() if n_occ >= 10})"
   ]
  },
  {
   "cell_type": "code",
   "execution_count": null,
   "metadata": {
    "id": "gdkj1pqEoas7"
   },
   "outputs": [],
   "source": [
    "def get_scores(query_tokens, token_counters):\n",
    "  scores = []\n",
    "  for token_counter in token_counters:\n",
    "    matches = [token_counter[query_token] for query_token in query_tokens]\n",
    "    total_score = sum(matches)\n",
    "    scores.append(total_score)\n",
    "  return scores"
   ]
  },
  {
   "cell_type": "code",
   "execution_count": null,
   "metadata": {
    "id": "H1zk2DYeocHe"
   },
   "outputs": [],
   "source": [
    "import numpy as np\n",
    "\n",
    "def show_best_results(df_articles, scores, top_n=10):\n",
    "  best_indexes = np.argsort(scores)[::-1]\n",
    "  for position, idx in enumerate(best_indexes[:top_n]):\n",
    "    row = df_articles.iloc[idx]\n",
    "    title = row[\"text\"]\n",
    "    score = scores[idx]\n",
    "    print(f\"{position + 1} [score = {score}]: {title}\")"
   ]
  },
  {
   "cell_type": "code",
   "execution_count": 41,
   "metadata": {
    "colab": {
     "base_uri": "https://localhost:8080/"
    },
    "id": "9h_7nMNcqiLl",
    "outputId": "f566bee4-abb8-4dba-e86a-b14a0d6e7d9f"
   },
   "outputs": [
    {
     "name": "stdout",
     "output_type": "stream",
     "text": [
      "1 [score = 41]: japan ageing workforce built last twenty battled tuberculosis eight year went run clothing business marrying late thirty yearold torao toshitsune eaten raw fish pretty much every day throughout life mr toshitsune one japan centenarian club growing annually oldest member neat osaka detached house life one sexagenarian daughter mr toshitsune keep regular routine copying buddhist sutra preparing traditional japanese tea ceremony task remarkably active senior citizen reveals next goal well whats important japan number one mr toshitsune want outlive everyone come longevity japan country appears woman expect live men four year longer american european outskirt kyoto yearold yuji shimizu contemplates phenomenon round golf younger friend seventy think food industry environment improved remark average live longer whether diet traditional family structure role clearly defined something gene japan elderly remarkable life may game golf mr shimizu grandchild huge problem ahead japan world least fertile nation childbirth rate two third u japan population expected peak million shrink million middle century mean million fewer worker time number elderly almost doubled year birth rate remains people make population explains shigeo morioka international longevity centre tokyo japan finance stay track decade economic stagnation huge deficit spending public sector debt already country gross domestic product gdp highest rate among industrialised country international monetary fund predicts falling birth rate take grip cost running japan welfare state double gdp current account balance deteriorate unfortunately japan appears poorly prepared financially politically glen wood vice president deutsche security japan asks who going fund pension fund next generation indeed going new japanese worker going build economy going leader going producer gdp going forward one option welfare reform another immigration possibly philippine indonesia far emerging policy appears restricted limited number nursing staff standing next tokyo harbour version new york statue liberty yet japan ready elli island japan never really liked option history think option thats becoming plausible necessary insists mr wood japan europe also face workforce decline immigration sensitive subject japanese economy facing fewer consumer mean slumping domestic sale car hitech kit home appliance perhaps even another property crash course japanese could always child government currently considering financial reward procreative couple similar operation australia would pay back today baby taxpayer demographic crisis like europe start unfold contrast japan course european union u population expected increase million middle century although president bush must redevise social security take account rise america imf foresees positive contribution u current account balance combined force fertility immigration voice japanese industry calling radical change nature japanese labour market want shift towards financial service though doubt persist country ability let alone willingness move away manufacturing japan still problem getting viable banking system let alone shifting auto business semiconductor business broad based tech manufacturing business overseas say mr wood japan either drive radical reform else run risk vicious ageing recession falling demand lower tax take could result soaring budget pressure basket case currency come japan could dependent shrinking workforce industrialised power fear world number two economy doomed permanent recession none mr toshitsunes concern anymore chuckle feel fine\n",
      "2 [score = 26]: japan economy slide recession japanese economy officially gone back recession fourth time decade gross domestic product fell last three month fall reflects weak export slowdown consumer spending follows similar fall gdp two previous quarter tokyo stock market fell figure announced rose widespread perception economy recover later year wednesday government revised growth figure earlier taking account performance recent period effectively tip japan recession previous estimate growth july september downgraded decline recession commonly defined two consecutive quarter negative growth although japanese government take factor account judging status economy figure released government cabinet office showed gdp annualised basis fell last three month however politician remain upbeat prospect economic boost later year economy soft patch look bigger picture recovery stage said economic fiscal policy minister heizo takenaka gross domestic product measure overall value good service produced country economy must assessed comprehensively look gdp alone mr takenaka stressed minister pointed fact consumer spending depressed oneoff factor unseasonably mild winter analyst said figure disappointing argued japan largest company recording healthy profit capital spending rise japan economy grew overall last year fuelled strong performance first month forecast see growth however economy fragile recovery remains dependent upturn consumer spending fall value yen improvement global economy result came lower end expectation shouldnt pessimistic current state outlook economy said naoki iizuka senior economist daiichi life research institute japan economy seen stretch moderate growth past decade periodically slipped back recession\n",
      "3 [score = 16]: hong kong world cup bid hong kong hoping join japan cohost rugby world cup japan applied host tournament aim taking outside rugby traditional stronghold first time hong kong rugby football union hkrfu chairman john molloy called territory host one pool quarterfinal japanese rugby football union jrfu say yet receive formal presentation hkrfu stage considering hosting event said jrfu secretary koji tokumasu examine proposal unless get definitive form japan face stiff competition form south africa new zealand host event seven year time world cup held country six nation trinations said tokumasu think irb think time rugby go global japan ready host tournament looking forward welcoming world rugby japan tokumasu added football world cup cohosted japan south korea huge success well infrastructure place japan also commercial clout host one sport top competition said last year japan launched first professional rugby league fourth largest number registered player world england south africa france\n",
      "4 [score = 14]: boeing secures giant japan order boeing supply japan airline forthcoming plane deal could worth much bn bn u giant japan airline made firm order aircraft option buy asia biggest airline join japanese rival nippon one first carrier order midsize boeing say supereconomical airbus week announced first presale rival boeings great european competitor sell forthcoming spanish carrier air europe option buy two deal could worth bn designed fuelefficient possible seat sector available short long range version japan airline said looked aircraft choosing also known dreamliner chose carefully considering airbus aircraft said japan airline spokesman fit better needed could delivered hoped get boeing continues enjoy dominance airbus japan japanese company taking key role building first e delivered japan airline april boeing set target getting firm commitment end year order far airbus hope order place mid\n",
      "5 [score = 14]: howl help boost japan cinema japan box office received boost last year ticket sale worth bn yen bn surge led animated movie howl moving castle took bn yen become biggest film japan expected match bn yen record hayao miyazakis previous film spirited away japan motion picture producer figure showed million cinema admission made japan last samurai starring tom cruise biggest foreign movie hit japan last year taking bn yen followed harry potter prisoner azkaban finding nemo lord ring return king second highestgrossing japanese film romantic drama cry love centre world followed pocket monster advanced generation japanese film accounted japan box office total last year foreign film taking remaining represented gain proportion japanese film compared number japanese film released rose previous year sale movie dvd video amounted bn yen bn year\n",
      "6 [score = 14]: japan narrowly escape recession japan economy teetered brink technical recession three month september figure show revised figure indicated growth similarsized contraction previous quarter annual basis data suggests annual growth suggesting much hesitant recovery previously thought common technical definition recession two successive quarter negative growth government keen play worrying implication data maintain view japan economy remains minor adjustment phase upward climb monitor development carefully said economy minister heizo takenaka face strengthening yen making export le competitive indication weakening economic condition ahead observer le sanguine painting picture recovery much patchier previously thought said paul sheard economist lehman brother tokyo improvement job market apparently yet feed domestic demand private consumption third quarter\n",
      "7 [score = 14]: business confidence dip japan business confidence among japanese manufacturer weakened first time since march quarterly tankan survey found slower economic growth rising oil price stronger yen weaker export blamed fall december confidence level seen september bank japan said however september reading strongest year economy pause unlikely fall economy minister said feel bit slower next year year growth may bit gentle situation recovery continue said economy minister heizo takenaka bank japan december survey balance big manufacturer saying business condition better minus saying worse september japan economy grew three month september according revised data issued month recovery slowing world second biggest economy expected grow tankan index based survey firm big manufacturer even pessimistic first quarter view suggest march reading could go low still positive territory weaker dollar decline strengthened yen making japanese export expensive u china attempt cool fastgrowing economy also hit japanese industry sale abroad confidence among nonmanufacturers unchanged final quarter forecast drop one point march survey nonetheless japanese firm stepping capital investment survey found pace quickening company reported expect invest year march previous year expectation increase september tankan\n",
      "8 [score = 14]: howl help boost japan cinema japan box office received boost last year ticket sale worth bn yen bn surge led animated movie howl moving castle took bn yen become biggest film japan expected match bn yen record hayao miyazakis previous film spirited away japan motion picture producer figure showed million cinema admission made japan last samurai starring tom cruise biggest foreign movie hit japan last year taking bn yen followed harry potter prisoner azkaban finding nemo lord ring return king second highestgrossing japanese film romantic drama cry love centre world followed pocket monster advanced generation japanese film accounted japan box office total last year foreign film taking remaining represented gain proportion japanese film compared number japanese film released rose previous year sale movie dvd video amounted bn yen bn year\n",
      "9 [score = 13]: china top trader japan china overtook u become japan biggest trading partner according number released japan finance ministry wednesday china accounted japan trade compared u u ahead china came second change highlight china growing importance economic powerhouse japan import export china hong kong added bn yen bnbn highest figure japanese trade china since record began compare bn yen trade u trade u hurt oneoff factor including month ban u beef import following discovery cow infected mad cow disease bse u however economist predict china become even important japanese trading partner coming year tuesday figure showed china economy grew expert say overall growth picture remains strong analyst see two spur future growth china membership world trade organisation lower trade tariff japan trade surplus grew trillion yen half surplus trillion yen accounted trade u december surplus grew year ago trillion yen thanks strongerthanexpected export\n",
      "10 [score = 12]: vodafone appoints new japan bos vodafone drafted uk chief executive william morrow take charge troubled japanese operation mr morrow succeed shiro tsuda president vodafone kk japan number three mobile operator april mr tsuda become chairman appointed president two month ago business struggled since losing customer january vodafone pinned hope launch phone november demand slow million customer japan vodafone found difficult satisfy japan technologically demanding mobile user suffered net loss customer january second monthly reverse last year vodafone going need put lot money japan want rebuild business tetsuro tsusaka telecom analyst deutsche bank told reuters know worth spend kind money japan\n"
     ]
    }
   ],
   "source": [
    "query = \"japan narrowly escape recession japan economy \"\n",
    "\n",
    "query = preprocess_text(query)\n",
    "\n",
    "query_tokens = word_tokenize(query)\n",
    "\n",
    "scores = get_scores(query_tokens, token_counters)\n",
    "# print(scores)\n",
    "show_best_results(df, scores)"
   ]
  },
  {
   "cell_type": "markdown",
   "metadata": {
    "id": "h03Fb0MZq6oQ"
   },
   "source": [
    "# Using Bag Of Words"
   ]
  },
  {
   "cell_type": "code",
   "execution_count": null,
   "metadata": {
    "id": "Yhajm5bQpDua"
   },
   "outputs": [],
   "source": [
    "from sklearn.feature_extraction.text import CountVectorizer"
   ]
  },
  {
   "cell_type": "code",
   "execution_count": null,
   "metadata": {
    "id": "NmDqpBNTsA8G"
   },
   "outputs": [],
   "source": [
    "cv = CountVectorizer()"
   ]
  },
  {
   "cell_type": "code",
   "execution_count": null,
   "metadata": {
    "id": "HEXUdSqvsFKF"
   },
   "outputs": [],
   "source": [
    "text = cv.fit_transform(df['text'])"
   ]
  },
  {
   "cell_type": "code",
   "execution_count": 37,
   "metadata": {
    "id": "13dvAthOsIqJ"
   },
   "outputs": [],
   "source": [
    "query = \"India\"\n",
    "query = preprocess_text(query)\n",
    "query_bow = cv.transform([query])"
   ]
  },
  {
   "cell_type": "code",
   "execution_count": 38,
   "metadata": {
    "id": "wPOzm2OLsO23"
   },
   "outputs": [],
   "source": [
    "from sklearn.metrics.pairwise import cosine_similarity\n",
    "\n",
    "# Compute cosine similarity\n",
    "cosine_similarities = cosine_similarity(query_bow, text).flatten()\n",
    "\n",
    "# Get the indices of the most relevant documents in descending order of similarity\n",
    "relevant_docs_indices = cosine_similarities.argsort()[::-1]"
   ]
  },
  {
   "cell_type": "code",
   "execution_count": 39,
   "metadata": {
    "colab": {
     "base_uri": "https://localhost:8080/"
    },
    "id": "UXuJLAlF5yF9",
    "outputId": "39f846dc-e9c3-467c-ec39-48891dcd710b"
   },
   "outputs": [
    {
     "data": {
      "text/plain": [
       "array([  17,  129,    7, ..., 1482, 1483,    0])"
      ]
     },
     "execution_count": 39,
     "metadata": {},
     "output_type": "execute_result"
    }
   ],
   "source": [
    "relevant_docs_indices"
   ]
  },
  {
   "cell_type": "code",
   "execution_count": 40,
   "metadata": {
    "colab": {
     "base_uri": "https://localhost:8080/"
    },
    "id": "UgXFdcyw52Yo",
    "outputId": "ca31561e-dea0-4f7f-ff7b-7463e1f08031"
   },
   "outputs": [
    {
     "name": "stdout",
     "output_type": "stream",
     "text": [
      "Document: india rupee hit fiveyear high india rupee hit fiveyear high standard poor sp raised country foreign currency rating rupee climbed per u dollar thursday close currency gained almost past three session sp rate borrower creditworthiness lifted india rating one notch bb indian asset seen le gamble cash expected flow market buoying rupee upgrade positive basically people use excuse come back india said bhanu baweja strategist ubs money moved india first two three week january market like korea thailand upgrade lead reversal india foreign currency rating one notch investment grade start bbb increase put level romania egypt el salvador one level russia\n",
      "Similarity Score: 0.4472135954999579\n",
      "\n",
      "Document: aviation firm eye booming india india defence minister opened country aero india air show invitation global aerospace firm outsource job nation pranab mukherjee said company could take advantage india highly skilled worker low wage civil military aerospace firm country attending show analyst said india could spend bn bn aviation market next year giant boeing airbus civil aviation front well lockheed martin france snecma military side firm attending show tremendous scope outsourcing india area company competitive said mr mukerjee keen welcome international collaboration conformity national goal lockheed said signed agreement stateowned hindustan aeronautics hal share information orion maritime surveillance aircraft fact indian armed force considering buying used orion well fighter jet lockheed u military industry show strong interest open link india relation two country improved lot fact first time u air force attend air show since sanction imposed india nuclear test lifted indian air force also considering proposal foreign firm france dassault aviation sweden saab russia mikoyangurevich meanwhile france snecma also said plan joint venture hal make engine part initial investment civilian front boeing announced deal india hcl technology develop platform flight test system dreamliner aircraft u company also said agreed new indian budget airline sale plane airline spicejet also option acquire aircraft airbus also recently signed fresh deal two indian airline air deccan kingfisher addition european company plan open training centre india meanwhile flag carrier air india considering buy new aircraft either boeing airbus market going see growth seen coming year said dinesh keskar senior vice president boeing\n",
      "Similarity Score: 0.43583586846268\n",
      "\n",
      "Document: india call fair trade rule india attends meeting seven leading industrialised nation friday unlikely cowed newcomer status london thursday ahead meeting india finance minister lashed restrictive trade policy nation objected subsidy agriculture make hard developing nation like india compete also called reform united nation world bank imf palaniappan chidambaram india finance minister argued organisation need take account changing world order given india china integration global economy said issue globalisation term engagement globalisation mr chidambaram attending meeting part group nation account two third world population conference developing enterprise hosted uk finance minister gordon brown friday said favour floating exchange rate help country cope economic shock flexible exchange rate one channel absorbing positive negative shock told conference india along china brazil south africa russia invited take part meeting taking place london friday saturday china expected face renewed pressure abandon fixed exchange rate nation particular u blamed surge cheap chinese export country tried use fixed exchange rate wish make judgement mr chidambaram said separately imf warned thursday india budget deficit large would hamper country economic growth forecast around year march year march indian economy grew\n",
      "Similarity Score: 0.40666285422027915\n",
      "\n",
      "Document: india open sky competition india allow domestic commercial airline fly long haul international route move hope stoke competition drive price however state controlled carrier able fly lucrative gulf route country kuwait saudi arabia least three year jet airway air sahara two company benefit initially india looking develop airline industry booming economic growth drive demand travel monica chadha bbc delhi reporter said air travel india increased almost previous year expected rise even infrastructure development lagging demand however improve international airport country shabby illequipped handle heavy air traffic m chada said adding civil aviation minister promised modernise privatise airport little progress made step take move thing forward government recently changed legislation limited foreign investment domestic airline raised maximum stake holding allowed local press meanwhile reported u india start negotiation adding route january jet airway india premier private domestic carrier air sahara ranked third category\n",
      "Similarity Score: 0.39223227027636803\n",
      "\n",
      "Document: mobile gaming take india gaming move one fastestgrowing activity among techsavvy india say report indian mobile gaming market expected generate end according market analyst instatmdr october mobile phone user grew million million overtaking number landline said telecom regulatory authority india analyst say cheap rate huge youth market driving market india large population unders many urban area fast adopting mobile musthave gadget india mobile gaming market bring according report mobile gaming expected explode globally next year analyst predict million people playing game phone generating billion mobile company service voice call offered mobile operator india result huge rise subscriber grown significantly rapidly growth market sector attracted publisher developer animator musician content provider also stimulating development innovative business model said clint wheelock director instatmdrs wireless research group mobile gaming fun also represents one key element rich mobile entertainment experience consumer lucrative market opportunity industry player currently india six big game developer four mobile operator offer game subscriber said report according instatmdr tipped make one important market next wave mobile multimedia growth january million mobile subscriber india many choose mobile rural area order bypass poorer telecom infrastructure despite penetration rate still much lower country le india total population mobile india compared well european country trend echo uptake mobile many developing economy continues grow people opt leapfrog slower expensive staterun fixedline operator\n",
      "Similarity Score: 0.37037037037037035\n",
      "\n",
      "Document: india russia energy talk india russia work together series energy deal part pact could see india invest bn oil gas project agenda oil gas extraction well transportation deal led russian energy giant gazprom india ongc indian firm also expected hold talk tuesday buying stake asset owned yukos reported keen buying stake oil unit yuganskneftegas former yukos subsidiary controversially sold last year eventually acquired stateowned energy giant rosneft russian medium reported india russia signed memorandum understanding energy cooperation tuesday meeting oil natural gas corporation chairman subir raha gazprom chairman aleksey miller india petroleum minister mani shankar aiyar agreement likely see two company develop refining facility russia india elsewhere organise delivery oil gas petrochemical russia india country across asia ongc could invest gas oil field sakhalin far east russia may also take part joint tender bid project eastern siberia caspian sea india urgently searching fresh energy supply particularly liquefied natural gas domestic demand growing year ongcs mr raha said two could work together joint bid next year current oil gas price cash flow situation good told reuters saying gazprom huge amount gas money investment may go bn period five year russian news agency reported india petroleum minister mr aiyar russian energy minister viktor khristenko would discus future yugansk meeting tuesday ongcs mr raha declined drawn firm reported interest company however stressed ongc interested loanforoil deal connection yugansk similar concluded recently rosneft china national petroleum corporation china problem immediate demand needed oil coastal refinery would like longterm security equity participation thought decision yugansk delayed u court decided whether grant yukos bankruptcy protection yukos suing host company involved sale yugansk auctioned pay huge backtax bill also threatened legal action business future commercial dealing former subsidiary\n",
      "Similarity Score: 0.36760731104690386\n",
      "\n",
      "Document: douglas set indian adventure actor michael douglas coproduce star adventure film diamond robbery set india new picture expected similar douglas action film romancing stone jewel nile another hollywood star lined costar rest cast indian aishwarya rai star bride prejudice preferred choice indian studio involved film visit india yearold actor said hoped start shooting racing monsoon next year douglas added inspired wall street journal article india angadias courier money diamond around india actor production company film working partnership two indian filmmaking concern bring picture screen shailendra singh founder india percept film said would lot india movie indian train would play big role train crucial part film chase stunt train said mr singh swashbuckling adventure film romancing stone saw douglas female costar kathleen turner win golden globe award performance\n",
      "Similarity Score: 0.3554093266554554\n",
      "\n",
      "Document: hyundai build new india plant south korea hyundai motor announced plan build second plant india meet country growing demand car company didnt give detail investment said new plant would produce car year boost annual production capacity company india secondlargest car manufacturer unit hyundai expects sale india grow expects nearly double sale car new plant built close existing one chennai southern province tamil nadu south korea top car maker estimate indian market grow year vehicle reaching million vehicle demand india driven poor state public transport low level car ownership analyst said figure show currently eight people per thousand car owner desperately need expand production order meet growing demand indian auto market growing percent every year top competitor chairman chung mongkoo said statement said company plan use india base export europe latin america middle east company control half south korean market aim become global top five auto maker\n",
      "Similarity Score: 0.3323092653730268\n",
      "\n",
      "Document: indiapakistan peace boost trade calmer relation india pakistan paying economic dividend new figure showing bilateral trade threefold summer value trade apriljuly rose period indian government said nonethless figure represent le india overall export business expected boosted south asian free trade area agreement start country eased travel restriction part peace process aimed ending nearly six decade hostility sugar plastic pharmaceutical product tea among major export india neighbour firm pakistani selling fabric fruit spice positive trend continues twoway trade could well cross half billion dollar fiscal year india federal commerce minister kamal nath said according official data value india overall export current fiscal year expected reach bn pakistan case set hit bn meanwhile indian government said prospect country booming economy remained bright despite temporary aberration year midyear economic review forecast growth compared higher oil price level tax collection unfavourable monsoon season affecting farm sector hurt economy aprilseptember said\n",
      "Similarity Score: 0.3254722774520597\n",
      "\n",
      "Document: india iran gas export deal india signed bn bn deal import million tonne liquefied natural gas iran firm led oil natural gas corporation ongc also assist development iranian oil field minister eager gain access energy supply meet demand booming economy secured similar deal one iran china announcement come ongc said talk buy former asset troubled russian oil firm yukos agreement iran sealed talk new delhi middle east producer asia biggest energy consumer china india japan south korea iran opec secondbiggest oil producer one world top gas producer pursuing series deal rewarding lng buyer participation development oil field agreement supply india million tonne lpg annually year period ongc national iranian oil company nioc reached preliminary deal indian firm take part development yadavaran jufeyr oilfield country said statement india oil production stagnated recent year look abroad secure future supply india import total oil consumption consumption jumped million barrel per day compared bpd\n",
      "Similarity Score: 0.31980107453341566\n",
      "\n"
     ]
    }
   ],
   "source": [
    "for index in relevant_docs_indices[:10]:\n",
    "    print(f\"Document: {df['text'][index]}\")\n",
    "    print(f\"Similarity Score: {cosine_similarities[index]}\\n\")"
   ]
  }
 ],
 "metadata": {
  "colab": {
   "provenance": []
  },
  "kernelspec": {
   "display_name": "Python 3 (ipykernel)",
   "language": "python",
   "name": "python3"
  },
  "language_info": {
   "codemirror_mode": {
    "name": "ipython",
    "version": 3
   },
   "file_extension": ".py",
   "mimetype": "text/x-python",
   "name": "python",
   "nbconvert_exporter": "python",
   "pygments_lexer": "ipython3",
   "version": "3.10.12"
  }
 },
 "nbformat": 4,
 "nbformat_minor": 4
}
